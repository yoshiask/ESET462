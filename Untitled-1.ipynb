{
 "cells": [
  {
   "cell_type": "code",
   "metadata": {
    "ExecuteTime": {
     "end_time": "2024-12-09T09:26:57.289747Z",
     "start_time": "2024-12-09T09:26:57.276209Z"
    }
   },
   "source": [
    "import IPython.display as disp\n",
    "from importlib import reload\n",
    "\n",
    "import ctl_sys as csys\n",
    "reload(csys)\n",
    "from ctl_sys import *"
   ],
   "outputs": [],
   "execution_count": 15
  },
  {
   "cell_type": "code",
   "metadata": {
    "ExecuteTime": {
     "end_time": "2024-12-09T09:26:57.332010Z",
     "start_time": "2024-12-09T09:26:57.294068Z"
    }
   },
   "source": [
    "# Question II\n",
    "Fs = (s+4) / ( (s+1) * (s+2) * (s+3) )\n",
    "ilaplace(Fs)"
   ],
   "outputs": [
    {
     "data": {
      "text/plain": [
       "3*exp(-t)/2 - 2*exp(-2*t) + exp(-3*t)/2"
      ],
      "text/latex": "$\\displaystyle \\frac{3 e^{- t}}{2} - 2 e^{- 2 t} + \\frac{e^{- 3 t}}{2}$"
     },
     "execution_count": 16,
     "metadata": {},
     "output_type": "execute_result"
    }
   ],
   "execution_count": 16
  },
  {
   "cell_type": "code",
   "metadata": {
    "ExecuteTime": {
     "end_time": "2024-12-09T09:26:57.345532Z",
     "start_time": "2024-12-09T09:26:57.341327Z"
    }
   },
   "source": [
    "# Question III\n",
    "from sympy.functions.elementary.piecewise import Piecewise\n",
    "x = Piecewise((1, n == 0), (0, n != 0))\n",
    "x"
   ],
   "outputs": [
    {
     "data": {
      "text/plain": [
       "0"
      ],
      "text/latex": "$\\displaystyle 0$"
     },
     "execution_count": 17,
     "metadata": {},
     "output_type": "execute_result"
    }
   ],
   "execution_count": 17
  },
  {
   "cell_type": "code",
   "metadata": {
    "ExecuteTime": {
     "end_time": "2024-12-09T09:26:57.373945Z",
     "start_time": "2024-12-09T09:26:57.354427Z"
    }
   },
   "source": [
    "# Question IV\n",
    "from sympy import Eq\n",
    "sys = Eq(diff_n(yt, 3) + 2*diff_n(yt, 2) + 3*diff_n(yt, 1) + 2*yt, diff_n(xt, 1) + xt)\n",
    "tdom_to_tf(sys)"
   ],
   "outputs": [
    {
     "data": {
      "text/plain": [
       "(-s - 1)/(-s**3 - 2*s**2 - 3*s - 2)"
      ],
      "text/latex": "$\\displaystyle \\frac{- s - 1}{- s^{3} - 2 s^{2} - 3 s - 2}$"
     },
     "execution_count": 18,
     "metadata": {},
     "output_type": "execute_result"
    }
   ],
   "execution_count": 18
  },
  {
   "cell_type": "code",
   "metadata": {
    "ExecuteTime": {
     "end_time": "2024-12-09T09:26:57.393264Z",
     "start_time": "2024-12-09T09:26:57.382490Z"
    }
   },
   "source": [
    "# Question V\n",
    "Fs = (2*s+1) / (s**3 + 2*s**2 + 5)\n",
    "tf_to_tdom(Fs)"
   ],
   "outputs": [
    {
     "data": {
      "text/plain": [
       "Eq(x(t) + 2*Derivative(x(t), t), 5*y(t) + 2*Derivative(y(t), (t, 2)) + Derivative(y(t), (t, 3)))"
      ],
      "text/latex": "$\\displaystyle x{\\left(t \\right)} + 2 \\frac{d}{d t} x{\\left(t \\right)} = 5 y{\\left(t \\right)} + 2 \\frac{d^{2}}{d t^{2}} y{\\left(t \\right)} + \\frac{d^{3}}{d t^{3}} y{\\left(t \\right)}$"
     },
     "execution_count": 19,
     "metadata": {},
     "output_type": "execute_result"
    }
   ],
   "execution_count": 19
  },
  {
   "cell_type": "code",
   "metadata": {
    "ExecuteTime": {
     "end_time": "2024-12-09T09:26:57.411592Z",
     "start_time": "2024-12-09T09:26:57.401046Z"
    }
   },
   "source": [
    "# Question VI\n",
    "ft = Eq(diff_n(yt, 2) + yt, diff_n(xt, 1) + xt)\n",
    "tdom_to_tf(ft)"
   ],
   "outputs": [
    {
     "data": {
      "text/plain": [
       "(-s - 1)/(-s**2 - 1)"
      ],
      "text/latex": "$\\displaystyle \\frac{- s - 1}{- s^{2} - 1}$"
     },
     "execution_count": 20,
     "metadata": {},
     "output_type": "execute_result"
    }
   ],
   "execution_count": 20
  },
  {
   "cell_type": "code",
   "metadata": {
    "ExecuteTime": {
     "end_time": "2024-12-09T09:26:57.443780Z",
     "start_time": "2024-12-09T09:26:57.419366Z"
    }
   },
   "source": [
    "# Question VII\n",
    "char_eq_coeffs = [1, 2, 1, 3*k]\n",
    "routhhurwitz_table(char_eq_coeffs).col(0)"
   ],
   "outputs": [
    {
     "data": {
      "text/plain": [
       "Matrix([\n",
       "[        1],\n",
       "[        2],\n",
       "[1 - 3*k/2],\n",
       "[      3*k]])"
      ],
      "text/latex": "$\\displaystyle \\left[\\begin{matrix}1\\\\2\\\\1 - \\frac{3 k}{2}\\\\3 k\\end{matrix}\\right]$"
     },
     "execution_count": 21,
     "metadata": {},
     "output_type": "execute_result"
    }
   ],
   "execution_count": 21
  },
  {
   "cell_type": "code",
   "metadata": {
    "ExecuteTime": {
     "end_time": "2024-12-09T09:26:57.463663Z",
     "start_time": "2024-12-09T09:26:57.450154Z"
    }
   },
   "source": [
    "# Question VIII\n",
    "Dz = (z+1) * (z+3)\n",
    "zdom_stable(1 / Dz)"
   ],
   "outputs": [
    {
     "name": "stdout",
     "output_type": "stream",
     "text": [
      "z**2 + 4*z + 3\n"
     ]
    },
    {
     "data": {
      "text/plain": [
       "False"
      ]
     },
     "execution_count": 22,
     "metadata": {},
     "output_type": "execute_result"
    }
   ],
   "execution_count": 22
  },
  {
   "cell_type": "code",
   "metadata": {
    "ExecuteTime": {
     "end_time": "2024-12-09T09:26:57.477299Z",
     "start_time": "2024-12-09T09:26:57.471292Z"
    }
   },
   "source": [
    "# Question IX\n",
    "Gs = 1 / (s**2 + 2*s + 2)\n",
    "get_damping_form(Gs)"
   ],
   "outputs": [
    {
     "data": {
      "text/plain": [
       "(sqrt(2), sqrt(2)/2)"
      ]
     },
     "execution_count": 23,
     "metadata": {},
     "output_type": "execute_result"
    }
   ],
   "execution_count": 23
  },
  {
   "cell_type": "code",
   "metadata": {
    "ExecuteTime": {
     "end_time": "2024-12-09T09:26:57.501650Z",
     "start_time": "2024-12-09T09:26:57.487255Z"
    }
   },
   "source": [
    "# Question X\n",
    "Gs = 1 / (s**2 + 2*s + 4)\n",
    "_, zeta_n = get_damping_form(Gs)\n",
    "max_overshoot(zeta_n).evalf()"
   ],
   "outputs": [
    {
     "data": {
      "text/plain": [
       "0.163033534821580"
      ],
      "text/latex": "$\\displaystyle 0.16303353482158$"
     },
     "execution_count": 24,
     "metadata": {},
     "output_type": "execute_result"
    }
   ],
   "execution_count": 24
  },
  {
   "cell_type": "code",
   "metadata": {
    "ExecuteTime": {
     "end_time": "2024-12-09T09:26:57.640474Z",
     "start_time": "2024-12-09T09:26:57.509135Z"
    }
   },
   "source": [
    "# Question XI\n",
    "yt = 1 - exp(-2*t)\n",
    "Ys = laplace(yt)\n",
    "Ys.simplify()"
   ],
   "outputs": [
    {
     "data": {
      "text/plain": [
       "2/(s*(s + 2))"
      ],
      "text/latex": "$\\displaystyle \\frac{2}{s \\left(s + 2\\right)}$"
     },
     "execution_count": 25,
     "metadata": {},
     "output_type": "execute_result"
    }
   ],
   "execution_count": 25
  },
  {
   "cell_type": "code",
   "metadata": {
    "ExecuteTime": {
     "end_time": "2024-12-09T09:26:57.687593Z",
     "start_time": "2024-12-09T09:26:57.648492Z"
    }
   },
   "source": [
    "# Question XIII\n",
    "Ps = 2 / (s**2 + 2*s + 6)\n",
    "Cs = k\n",
    "GCL = build_closed_loop(Ps, Cs)\n",
    "disp.display(GCL)\n",
    "coeffs = char_eq_coeffs_from_tf(GCL)\n",
    "routhhurwitz_complete(coeffs)"
   ],
   "outputs": [
    {
     "data": {
      "text/plain": [
       "2*k/(2*k + s**2 + 2*s + 6)"
      ],
      "text/latex": "$\\displaystyle \\frac{2 k}{2 k + s^{2} + 2 s + 6}$"
     },
     "metadata": {},
     "output_type": "display_data"
    },
    {
     "data": {
      "text/plain": [
       "k > -3"
      ],
      "text/latex": "$\\displaystyle k > -3$"
     },
     "execution_count": 26,
     "metadata": {},
     "output_type": "execute_result"
    }
   ],
   "execution_count": 26
  },
  {
   "cell_type": "code",
   "metadata": {
    "ExecuteTime": {
     "end_time": "2024-12-09T09:26:57.701119Z",
     "start_time": "2024-12-09T09:26:57.696409Z"
    }
   },
   "source": [
    "# Question XIV\n",
    "Gs = 1 / (1 + 2*s)\n",
    "get_dc_and_time(Gs)"
   ],
   "outputs": [
    {
     "data": {
      "text/plain": [
       "(1, 2)"
      ]
     },
     "execution_count": 27,
     "metadata": {},
     "output_type": "execute_result"
    }
   ],
   "execution_count": 27
  },
  {
   "cell_type": "code",
   "metadata": {
    "ExecuteTime": {
     "end_time": "2024-12-09T09:26:57.728622Z",
     "start_time": "2024-12-09T09:26:57.709382Z"
    }
   },
   "source": [
    "# Question XVIII\n",
    "from sympy import symbols\n",
    "G1, G2, G3, G4 = symbols('G1 G2 G3 G4')\n",
    "build_feedback(G1*G2, G4*(G3/G2 + 1)).expand().simplify()"
   ],
   "outputs": [
    {
     "data": {
      "text/plain": [
       "G1*G2/(G1*G2*G4 + G1*G3*G4 + 1)"
      ],
      "text/latex": "$\\displaystyle \\frac{G_{1} G_{2}}{G_{1} G_{2} G_{4} + G_{1} G_{3} G_{4} + 1}$"
     },
     "execution_count": 28,
     "metadata": {},
     "output_type": "execute_result"
    }
   ],
   "execution_count": 28
  },
  {
   "cell_type": "code",
   "metadata": {
    "ExecuteTime": {
     "end_time": "2024-12-09T09:26:57.750693Z",
     "start_time": "2024-12-09T09:26:57.737605Z"
    }
   },
   "source": [
    "G1*G2 / (1 + G1*G2*G4*(1 + G3/G2)).expand().simplify()"
   ],
   "outputs": [
    {
     "data": {
      "text/plain": [
       "G1*G2/(G1*G2*G4 + G1*G3*G4 + 1)"
      ],
      "text/latex": "$\\displaystyle \\frac{G_{1} G_{2}}{G_{1} G_{2} G_{4} + G_{1} G_{3} G_{4} + 1}$"
     },
     "execution_count": 29,
     "metadata": {},
     "output_type": "execute_result"
    }
   ],
   "execution_count": 29
  },
  {
   "cell_type": "code",
   "metadata": {
    "ExecuteTime": {
     "end_time": "2024-12-09T09:26:57.810530Z",
     "start_time": "2024-12-09T09:26:57.759385Z"
    }
   },
   "source": [
    "# Question XXI\n",
    "sys = Eq(diff_n(yt, 2) + 6*diff_n(yt, 1) + 9*yt, 2*diff_n(xt, 1) + xt)\n",
    "Fs = tdom_to_tf(sys).simplify()\n",
    "tf_poles_zeros(Fs)[1]"
   ],
   "outputs": [
    {
     "ename": "ValueError",
     "evalue": "too many values to unpack (expected 2)",
     "output_type": "error",
     "traceback": [
      "\u001B[1;31m---------------------------------------------------------------------------\u001B[0m",
      "\u001B[1;31mValueError\u001B[0m                                Traceback (most recent call last)",
      "Cell \u001B[1;32mIn[30], line 3\u001B[0m\n\u001B[0;32m      1\u001B[0m \u001B[38;5;66;03m# Question XXI\u001B[39;00m\n\u001B[0;32m      2\u001B[0m sys \u001B[38;5;241m=\u001B[39m Eq(diff_n(yt, \u001B[38;5;241m2\u001B[39m) \u001B[38;5;241m+\u001B[39m \u001B[38;5;241m6\u001B[39m\u001B[38;5;241m*\u001B[39mdiff_n(yt, \u001B[38;5;241m1\u001B[39m) \u001B[38;5;241m+\u001B[39m \u001B[38;5;241m9\u001B[39m\u001B[38;5;241m*\u001B[39myt, \u001B[38;5;241m2\u001B[39m\u001B[38;5;241m*\u001B[39mdiff_n(xt, \u001B[38;5;241m1\u001B[39m) \u001B[38;5;241m+\u001B[39m xt)\n\u001B[1;32m----> 3\u001B[0m Fs \u001B[38;5;241m=\u001B[39m \u001B[43mtdom_to_tf\u001B[49m\u001B[43m(\u001B[49m\u001B[43msys\u001B[49m\u001B[43m)\u001B[49m\u001B[38;5;241m.\u001B[39msimplify()\n\u001B[0;32m      4\u001B[0m tf_poles_zeros(Fs)[\u001B[38;5;241m1\u001B[39m]\n",
      "File \u001B[1;32mD:\\Repos\\yoshiask\\ESET462\\ctl_sys.py:87\u001B[0m, in \u001B[0;36mtdom_to_tf\u001B[1;34m(tdom_func)\u001B[0m\n\u001B[0;32m     85\u001B[0m \u001B[38;5;28;01mdef\u001B[39;00m \u001B[38;5;21mtdom_to_tf\u001B[39m(tdom_func: Function) \u001B[38;5;241m-\u001B[39m\u001B[38;5;241m>\u001B[39m Function:\n\u001B[0;32m     86\u001B[0m     s_func \u001B[38;5;241m=\u001B[39m tdom_to_sdom(tdom_func)\n\u001B[1;32m---> 87\u001B[0m     tf \u001B[38;5;241m=\u001B[39m \u001B[43msdom_to_tf\u001B[49m\u001B[43m(\u001B[49m\u001B[43ms_func\u001B[49m\u001B[43m)\u001B[49m\n\u001B[0;32m     88\u001B[0m     \u001B[38;5;28;01mreturn\u001B[39;00m tf\n",
      "File \u001B[1;32mD:\\Repos\\yoshiask\\ESET462\\ctl_sys.py:65\u001B[0m, in \u001B[0;36msdom_to_tf\u001B[1;34m(s_func)\u001B[0m\n\u001B[0;32m     62\u001B[0m     \u001B[38;5;28;01mraise\u001B[39;00m \u001B[38;5;167;01mValueError\u001B[39;00m()\n\u001B[0;32m     64\u001B[0m \u001B[38;5;66;03m# Extract the Y and X coefficients, then return Y/X\u001B[39;00m\n\u001B[1;32m---> 65\u001B[0m left, right \u001B[38;5;241m=\u001B[39m collected_sdom\u001B[38;5;241m.\u001B[39margs\n\u001B[0;32m     66\u001B[0m \u001B[38;5;28;01mif\u001B[39;00m \u001B[38;5;129;01mnot\u001B[39;00m left\u001B[38;5;241m.\u001B[39mis_Mul \u001B[38;5;129;01mor\u001B[39;00m \u001B[38;5;129;01mnot\u001B[39;00m right\u001B[38;5;241m.\u001B[39mis_Mul:\n\u001B[0;32m     67\u001B[0m     \u001B[38;5;28;01mraise\u001B[39;00m \u001B[38;5;167;01mValueError\u001B[39;00m()\n",
      "\u001B[1;31mValueError\u001B[0m: too many values to unpack (expected 2)"
     ]
    }
   ],
   "execution_count": 30
  },
  {
   "cell_type": "code",
   "execution_count": 144,
   "metadata": {},
   "outputs": [
    {
     "data": {
      "text/plain": [
       "[-1]"
      ]
     },
     "execution_count": 144,
     "metadata": {},
     "output_type": "execute_result"
    }
   ],
   "source": [
    "# Question XXII\n",
    "sys = Eq(diff_n(yt, 2) + 6*diff_n(yt, 1) + 9*yt, diff_n(xt, 1) + xt)\n",
    "Fs = tdom_to_tf(sys).simplify()\n",
    "tf_poles_zeros(Fs)[0]"
   ]
  }
 ],
 "metadata": {
  "kernelspec": {
   "display_name": "Python 3 (ipykernel)",
   "language": "python",
   "name": "python3"
  },
  "language_info": {
   "codemirror_mode": {
    "name": "ipython",
    "version": 3
   },
   "file_extension": ".py",
   "mimetype": "text/x-python",
   "name": "python",
   "nbconvert_exporter": "python",
   "pygments_lexer": "ipython3",
   "version": "3.12.6"
  }
 },
 "nbformat": 4,
 "nbformat_minor": 4
}
